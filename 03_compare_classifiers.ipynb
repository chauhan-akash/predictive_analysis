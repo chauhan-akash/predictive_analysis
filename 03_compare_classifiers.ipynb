{
 "cells": [
  {
   "cell_type": "markdown",
   "metadata": {},
   "source": [
    "## Classification Models Comparison\n",
    "\n",
    "In this notebook we will try and compare the performance of various classification models. Following models will be tested and compared - \n",
    " - Logistic Regression\n",
    " - Decision Trees\n",
    " - Random Forest\n",
    " - SVM classifier\n",
    " - Naive Bayes\n",
    " - Nearest neighbor classifier\n",
    " \n",
    "We will also implement SMOTE technique to balance the imbalanced dataset to improve model performance."
   ]
  },
  {
   "cell_type": "markdown",
   "metadata": {},
   "source": [
    "### 1. Import key libraries & read the data"
   ]
  },
  {
   "cell_type": "code",
   "execution_count": 31,
   "metadata": {},
   "outputs": [],
   "source": [
    "###################################################\n",
    "# Importing libraries\n",
    "###################################################\n",
    "\n",
    "import pandas as pd\n",
    "import numpy as np\n",
    "import seaborn as sns\n",
    "import matplotlib.pyplot as plt\n",
    "%matplotlib inline\n",
    "\n",
    "#import pre processesing\n",
    "from sklearn.model_selection import train_test_split\n",
    "from sklearn.preprocessing import StandardScaler\n",
    "\n",
    "# import models\n",
    "from sklearn.linear_model import LogisticRegression\n",
    "from sklearn.tree import DecisionTreeClassifier\n",
    "from sklearn.ensemble import RandomForestClassifier\n",
    "from sklearn.svm import SVC\n",
    "from sklearn.naive_bayes import GaussianNB\n",
    "from sklearn.neighbors import KNeighborsClassifier\n",
    "\n",
    "# import metrics\n",
    "from sklearn.metrics import confusion_matrix\n",
    "from sklearn.metrics import plot_confusion_matrix\n",
    "from sklearn.metrics import f1_score\n",
    "from sklearn.metrics import roc_curve\n",
    "from sklearn.metrics import auc\n",
    "from sklearn.metrics import precision_recall_curve\n",
    "\n",
    "# import imbalanced library\n",
    "from imblearn.over_sampling import SMOTE\n",
    "from imblearn.under_sampling import RandomUnderSampler\n",
    "from imblearn.pipeline import Pipeline"
   ]
  },
  {
   "cell_type": "code",
   "execution_count": 3,
   "metadata": {},
   "outputs": [
    {
     "name": "stdout",
     "output_type": "stream",
     "text": [
      "Number of rows : 5110\n",
      "Number of columns : 12\n"
     ]
    },
    {
     "data": {
      "text/html": [
       "<div>\n",
       "<style scoped>\n",
       "    .dataframe tbody tr th:only-of-type {\n",
       "        vertical-align: middle;\n",
       "    }\n",
       "\n",
       "    .dataframe tbody tr th {\n",
       "        vertical-align: top;\n",
       "    }\n",
       "\n",
       "    .dataframe thead th {\n",
       "        text-align: right;\n",
       "    }\n",
       "</style>\n",
       "<table border=\"1\" class=\"dataframe\">\n",
       "  <thead>\n",
       "    <tr style=\"text-align: right;\">\n",
       "      <th></th>\n",
       "      <th>id</th>\n",
       "      <th>gender</th>\n",
       "      <th>age</th>\n",
       "      <th>hypertension</th>\n",
       "      <th>heart_disease</th>\n",
       "      <th>ever_married</th>\n",
       "      <th>work_type</th>\n",
       "      <th>Residence_type</th>\n",
       "      <th>avg_glucose_level</th>\n",
       "      <th>bmi</th>\n",
       "      <th>smoking_status</th>\n",
       "      <th>stroke</th>\n",
       "    </tr>\n",
       "  </thead>\n",
       "  <tbody>\n",
       "    <tr>\n",
       "      <th>0</th>\n",
       "      <td>9046</td>\n",
       "      <td>Male</td>\n",
       "      <td>67.0</td>\n",
       "      <td>0</td>\n",
       "      <td>1</td>\n",
       "      <td>Yes</td>\n",
       "      <td>Private</td>\n",
       "      <td>Urban</td>\n",
       "      <td>228.69</td>\n",
       "      <td>36.6</td>\n",
       "      <td>formerly smoked</td>\n",
       "      <td>1</td>\n",
       "    </tr>\n",
       "    <tr>\n",
       "      <th>1</th>\n",
       "      <td>51676</td>\n",
       "      <td>Female</td>\n",
       "      <td>61.0</td>\n",
       "      <td>0</td>\n",
       "      <td>0</td>\n",
       "      <td>Yes</td>\n",
       "      <td>Self-employed</td>\n",
       "      <td>Rural</td>\n",
       "      <td>202.21</td>\n",
       "      <td>NaN</td>\n",
       "      <td>never smoked</td>\n",
       "      <td>1</td>\n",
       "    </tr>\n",
       "    <tr>\n",
       "      <th>2</th>\n",
       "      <td>31112</td>\n",
       "      <td>Male</td>\n",
       "      <td>80.0</td>\n",
       "      <td>0</td>\n",
       "      <td>1</td>\n",
       "      <td>Yes</td>\n",
       "      <td>Private</td>\n",
       "      <td>Rural</td>\n",
       "      <td>105.92</td>\n",
       "      <td>32.5</td>\n",
       "      <td>never smoked</td>\n",
       "      <td>1</td>\n",
       "    </tr>\n",
       "    <tr>\n",
       "      <th>3</th>\n",
       "      <td>60182</td>\n",
       "      <td>Female</td>\n",
       "      <td>49.0</td>\n",
       "      <td>0</td>\n",
       "      <td>0</td>\n",
       "      <td>Yes</td>\n",
       "      <td>Private</td>\n",
       "      <td>Urban</td>\n",
       "      <td>171.23</td>\n",
       "      <td>34.4</td>\n",
       "      <td>smokes</td>\n",
       "      <td>1</td>\n",
       "    </tr>\n",
       "    <tr>\n",
       "      <th>4</th>\n",
       "      <td>1665</td>\n",
       "      <td>Female</td>\n",
       "      <td>79.0</td>\n",
       "      <td>1</td>\n",
       "      <td>0</td>\n",
       "      <td>Yes</td>\n",
       "      <td>Self-employed</td>\n",
       "      <td>Rural</td>\n",
       "      <td>174.12</td>\n",
       "      <td>24.0</td>\n",
       "      <td>never smoked</td>\n",
       "      <td>1</td>\n",
       "    </tr>\n",
       "  </tbody>\n",
       "</table>\n",
       "</div>"
      ],
      "text/plain": [
       "      id  gender   age  hypertension  heart_disease ever_married  \\\n",
       "0   9046    Male  67.0             0              1          Yes   \n",
       "1  51676  Female  61.0             0              0          Yes   \n",
       "2  31112    Male  80.0             0              1          Yes   \n",
       "3  60182  Female  49.0             0              0          Yes   \n",
       "4   1665  Female  79.0             1              0          Yes   \n",
       "\n",
       "       work_type Residence_type  avg_glucose_level   bmi   smoking_status  \\\n",
       "0        Private          Urban             228.69  36.6  formerly smoked   \n",
       "1  Self-employed          Rural             202.21   NaN     never smoked   \n",
       "2        Private          Rural             105.92  32.5     never smoked   \n",
       "3        Private          Urban             171.23  34.4           smokes   \n",
       "4  Self-employed          Rural             174.12  24.0     never smoked   \n",
       "\n",
       "   stroke  \n",
       "0       1  \n",
       "1       1  \n",
       "2       1  \n",
       "3       1  \n",
       "4       1  "
      ]
     },
     "execution_count": 3,
     "metadata": {},
     "output_type": "execute_result"
    }
   ],
   "source": [
    "###################################################\n",
    "# Read the data\n",
    "###################################################\n",
    "\n",
    "stroke_data = pd.read_csv('data/stroke_data.csv')\n",
    "print('Number of rows :', stroke_data.shape[0])\n",
    "print('Number of columns :', stroke_data.shape[1])\n",
    "stroke_data.head()"
   ]
  },
  {
   "cell_type": "markdown",
   "metadata": {},
   "source": [
    "### Data Attribute Information\n",
    "\n",
    "- **id**: unique identifier\n",
    "- **gender**: \"Male\", \"Female\" or \"Other\"\n",
    "- **age**: age of the patient\n",
    "- **hypertension**: 0 if the patient doesn't have hypertension, 1 if the patient has hypertension\n",
    "- **heart_disease**: 0 if the patient doesn't have any heart diseases, 1 if the patient has a heart disease\n",
    "- **ever_married**: \"No\" or \"Yes\"\n",
    "- **work_type**: \"children\", \"Govt_jov\", \"Never_worked\", \"Private\" or \"Self-employed\"\n",
    "- **Residence_type**: \"Rural\" or \"Urban\"\n",
    "- **avg_glucose_level**: average glucose level in blood\n",
    "- **bmi**: body mass index\n",
    "- **smoking_status**: \"formerly smoked\", \"never smoked\", \"smokes\" or \"Unknown\"*\n",
    "- **stroke**: 1 if the patient had a stroke or 0 if not\n",
    "\n",
    "**Note: \"Unknown\" in smoking_status means that the information is unavailable for this patient**\n",
    "\n",
    "#### We will try to predict if the patient had a stroke or not based on other features available."
   ]
  },
  {
   "cell_type": "code",
   "execution_count": 4,
   "metadata": {},
   "outputs": [
    {
     "name": "stdout",
     "output_type": "stream",
     "text": [
      "<class 'pandas.core.frame.DataFrame'>\n",
      "RangeIndex: 5110 entries, 0 to 5109\n",
      "Data columns (total 12 columns):\n",
      "id                   5110 non-null int64\n",
      "gender               5110 non-null object\n",
      "age                  5110 non-null float64\n",
      "hypertension         5110 non-null int64\n",
      "heart_disease        5110 non-null int64\n",
      "ever_married         5110 non-null object\n",
      "work_type            5110 non-null object\n",
      "Residence_type       5110 non-null object\n",
      "avg_glucose_level    5110 non-null float64\n",
      "bmi                  4909 non-null float64\n",
      "smoking_status       5110 non-null object\n",
      "stroke               5110 non-null int64\n",
      "dtypes: float64(3), int64(4), object(5)\n",
      "memory usage: 479.1+ KB\n"
     ]
    }
   ],
   "source": [
    "###################################################\n",
    "# Clean the data\n",
    "###################################################\n",
    "# explore to see info of the data\n",
    "stroke_data.info()"
   ]
  },
  {
   "cell_type": "code",
   "execution_count": 5,
   "metadata": {},
   "outputs": [
    {
     "name": "stdout",
     "output_type": "stream",
     "text": [
      "**************************************************\n",
      "Column Name -  id\n",
      "Column type -  int64\n",
      "Null values - 0\n",
      "NA Values - 0\n",
      "Number of Unique values -  5110\n",
      "Unique values -  [ 9046 51676 31112 ... 19723 37544 44679]\n",
      "**************************************************\n",
      "Column Name -  gender\n",
      "Column type -  object\n",
      "Null values - 0\n",
      "NA Values - 0\n",
      "Number of Unique values -  3\n",
      "Unique values -  ['Male' 'Female' 'Other']\n",
      "**************************************************\n",
      "Column Name -  age\n",
      "Column type -  float64\n",
      "Null values - 0\n",
      "NA Values - 0\n",
      "Number of Unique values -  104\n",
      "Unique values -  [6.70e+01 6.10e+01 8.00e+01 4.90e+01 7.90e+01 8.10e+01 7.40e+01 6.90e+01\n",
      " 5.90e+01 7.80e+01 5.40e+01 5.00e+01 6.40e+01 7.50e+01 6.00e+01 5.70e+01\n",
      " 7.10e+01 5.20e+01 8.20e+01 6.50e+01 5.80e+01 4.20e+01 4.80e+01 7.20e+01\n",
      " 6.30e+01 7.60e+01 3.90e+01 7.70e+01 7.30e+01 5.60e+01 4.50e+01 7.00e+01\n",
      " 6.60e+01 5.10e+01 4.30e+01 6.80e+01 4.70e+01 5.30e+01 3.80e+01 5.50e+01\n",
      " 1.32e+00 4.60e+01 3.20e+01 1.40e+01 3.00e+00 8.00e+00 3.70e+01 4.00e+01\n",
      " 3.50e+01 2.00e+01 4.40e+01 2.50e+01 2.70e+01 2.30e+01 1.70e+01 1.30e+01\n",
      " 4.00e+00 1.60e+01 2.20e+01 3.00e+01 2.90e+01 1.10e+01 2.10e+01 1.80e+01\n",
      " 3.30e+01 2.40e+01 3.40e+01 3.60e+01 6.40e-01 4.10e+01 8.80e-01 5.00e+00\n",
      " 2.60e+01 3.10e+01 7.00e+00 1.20e+01 6.20e+01 2.00e+00 9.00e+00 1.50e+01\n",
      " 2.80e+01 1.00e+01 1.80e+00 3.20e-01 1.08e+00 1.90e+01 6.00e+00 1.16e+00\n",
      " 1.00e+00 1.40e+00 1.72e+00 2.40e-01 1.64e+00 1.56e+00 7.20e-01 1.88e+00\n",
      " 1.24e+00 8.00e-01 4.00e-01 8.00e-02 1.48e+00 5.60e-01 4.80e-01 1.60e-01]\n",
      "**************************************************\n",
      "Column Name -  hypertension\n",
      "Column type -  int64\n",
      "Null values - 0\n",
      "NA Values - 0\n",
      "Number of Unique values -  2\n",
      "Unique values -  [0 1]\n",
      "**************************************************\n",
      "Column Name -  heart_disease\n",
      "Column type -  int64\n",
      "Null values - 0\n",
      "NA Values - 0\n",
      "Number of Unique values -  2\n",
      "Unique values -  [1 0]\n",
      "**************************************************\n",
      "Column Name -  ever_married\n",
      "Column type -  object\n",
      "Null values - 0\n",
      "NA Values - 0\n",
      "Number of Unique values -  2\n",
      "Unique values -  ['Yes' 'No']\n",
      "**************************************************\n",
      "Column Name -  work_type\n",
      "Column type -  object\n",
      "Null values - 0\n",
      "NA Values - 0\n",
      "Number of Unique values -  5\n",
      "Unique values -  ['Private' 'Self-employed' 'Govt_job' 'children' 'Never_worked']\n",
      "**************************************************\n",
      "Column Name -  Residence_type\n",
      "Column type -  object\n",
      "Null values - 0\n",
      "NA Values - 0\n",
      "Number of Unique values -  2\n",
      "Unique values -  ['Urban' 'Rural']\n",
      "**************************************************\n",
      "Column Name -  avg_glucose_level\n",
      "Column type -  float64\n",
      "Null values - 0\n",
      "NA Values - 0\n",
      "Number of Unique values -  3979\n",
      "Unique values -  [228.69 202.21 105.92 ...  82.99 166.29  85.28]\n",
      "**************************************************\n",
      "Column Name -  bmi\n",
      "Column type -  float64\n",
      "Null values - 201\n",
      "NA Values - 201\n",
      "Number of Unique values -  419\n",
      "Unique values -  [36.6  nan 32.5 34.4 24.  29.  27.4 22.8 24.2 29.7 36.8 27.3 28.2 30.9\n",
      " 37.5 25.8 37.8 22.4 48.9 26.6 27.2 23.5 28.3 44.2 25.4 22.2 30.5 26.5\n",
      " 33.7 23.1 32.  29.9 23.9 28.5 26.4 20.2 33.6 38.6 39.2 27.7 31.4 36.5\n",
      " 33.2 32.8 40.4 25.3 30.2 47.5 20.3 30.  28.9 28.1 31.1 21.7 27.  24.1\n",
      " 45.9 44.1 22.9 29.1 32.3 41.1 25.6 29.8 26.3 26.2 29.4 24.4 28.  28.8\n",
      " 34.6 19.4 30.3 41.5 22.6 56.6 27.1 31.3 31.  31.7 35.8 28.4 20.1 26.7\n",
      " 38.7 34.9 25.  23.8 21.8 27.5 24.6 32.9 26.1 31.9 34.1 36.9 37.3 45.7\n",
      " 34.2 23.6 22.3 37.1 45.  25.5 30.8 37.4 34.5 27.9 29.5 46.  42.5 35.5\n",
      " 26.9 45.5 31.5 33.  23.4 30.7 20.5 21.5 40.  28.6 42.2 29.6 35.4 16.9\n",
      " 26.8 39.3 32.6 35.9 21.2 42.4 40.5 36.7 29.3 19.6 18.  17.6 19.1 50.1\n",
      " 17.7 54.6 35.  22.  39.4 19.7 22.5 25.2 41.8 60.9 23.7 24.5 31.2 16.\n",
      " 31.6 25.1 24.8 18.3 20.  19.5 36.  35.3 40.1 43.1 21.4 34.3 27.6 16.5\n",
      " 24.3 25.7 21.9 38.4 25.9 54.7 18.6 24.9 48.2 20.7 39.5 23.3 64.8 35.1\n",
      " 43.6 21.  47.3 16.6 21.6 15.5 35.6 16.7 41.9 16.4 17.1 29.2 37.9 44.6\n",
      " 39.6 40.3 41.6 39.  23.2 18.9 36.1 36.3 46.5 16.8 46.6 35.2 20.9 13.8\n",
      " 31.8 15.3 38.2 45.2 17.  49.8 27.8 60.2 23.  22.1 26.  44.3 51.  39.7\n",
      " 34.7 21.3 41.2 34.8 19.2 35.7 40.8 24.7 19.  32.4 34.  28.7 32.1 51.5\n",
      " 20.4 30.6 71.9 19.3 40.9 17.2 16.1 16.2 40.6 18.4 21.1 42.3 32.2 50.2\n",
      " 17.5 18.7 42.1 47.8 20.8 30.1 17.3 36.4 12.  36.2 55.7 14.4 43.  41.7\n",
      " 33.8 43.9 22.7 57.5 37.  38.5 16.3 44.  32.7 54.2 40.2 33.3 17.4 41.3\n",
      " 52.3 14.6 17.8 46.1 33.1 18.1 43.8 50.3 38.9 43.7 39.9 15.9 19.8 12.3\n",
      " 78.  38.3 41.  42.6 43.4 15.1 20.6 33.5 43.2 30.4 38.  33.4 44.9 44.7\n",
      " 37.6 39.8 53.4 55.2 42.  37.2 42.8 18.8 42.9 14.3 37.7 48.4 50.6 46.2\n",
      " 49.5 43.3 33.9 18.5 44.5 45.4 55.  54.8 19.9 17.9 15.6 52.8 15.2 66.8\n",
      " 55.1 18.2 48.5 55.9 57.3 10.3 14.1 15.7 56.  44.8 13.4 51.8 38.1 57.7\n",
      " 44.4 38.8 49.3 39.1 54.  56.1 97.6 53.9 13.7 11.5 41.4 14.2 49.4 15.4\n",
      " 45.1 49.2 48.7 53.8 42.7 48.8 52.7 53.5 50.5 15.8 45.3 14.8 51.9 63.3\n",
      " 40.7 61.2 48.  46.8 48.3 58.1 50.4 11.3 12.8 13.5 14.5 15.  59.7 47.4\n",
      " 52.5 13.2 52.9 61.6 49.9 54.3 47.9 13.  13.9 50.9 57.2 64.4 92.  50.8\n",
      " 57.9 45.8 47.6 14.  46.4 46.9 47.1 13.3 48.1 51.7 46.3 54.1 14.9]\n",
      "**************************************************\n",
      "Column Name -  smoking_status\n",
      "Column type -  object\n",
      "Null values - 0\n",
      "NA Values - 0\n",
      "Number of Unique values -  4\n",
      "Unique values -  ['formerly smoked' 'never smoked' 'smokes' 'Unknown']\n",
      "**************************************************\n",
      "Column Name -  stroke\n",
      "Column type -  int64\n",
      "Null values - 0\n",
      "NA Values - 0\n",
      "Number of Unique values -  2\n",
      "Unique values -  [1 0]\n"
     ]
    }
   ],
   "source": [
    "for c in stroke_data.columns:\n",
    "    print('**************************************************')\n",
    "    print('Column Name - ', c)\n",
    "    print('Column type - ', stroke_data[c].dtype)\n",
    "    print('Null values -', stroke_data[c].isnull().sum())\n",
    "    print('NA Values -', stroke_data[c].isna().sum())\n",
    "    print('Number of Unique values - ', len(stroke_data[c].unique()))\n",
    "    print('Unique values - ', stroke_data[c].unique())"
   ]
  },
  {
   "cell_type": "code",
   "execution_count": 6,
   "metadata": {},
   "outputs": [
    {
     "name": "stdout",
     "output_type": "stream",
     "text": [
      "Missing bmi values 3.9 %\n"
     ]
    }
   ],
   "source": [
    "# we see that bmi column has lots of missing values\n",
    "print('Missing bmi values', np.round(100*len(stroke_data[stroke_data['bmi'].isna()])/len(stroke_data),1),'%')"
   ]
  },
  {
   "cell_type": "code",
   "execution_count": 7,
   "metadata": {},
   "outputs": [
    {
     "name": "stdout",
     "output_type": "stream",
     "text": [
      "mean - 28.893236911794673 median - 28.1\n",
      "NA Values - 0\n"
     ]
    }
   ],
   "source": [
    "# let's fill up the missing bmi with mean value\n",
    "bmi_mean = stroke_data.loc[stroke_data['bmi'].notna(),'bmi'].mean()\n",
    "bmi_median = stroke_data.loc[stroke_data['bmi'].notna(),'bmi'].median()\n",
    "print('mean -',bmi_mean, 'median -',bmi_median)\n",
    "stroke_data.loc[stroke_data['bmi'].isna(),'bmi'] = bmi_mean\n",
    "print('NA Values -', stroke_data['bmi'].isna().sum())"
   ]
  },
  {
   "cell_type": "code",
   "execution_count": 8,
   "metadata": {},
   "outputs": [
    {
     "data": {
      "text/html": [
       "<div>\n",
       "<style scoped>\n",
       "    .dataframe tbody tr th:only-of-type {\n",
       "        vertical-align: middle;\n",
       "    }\n",
       "\n",
       "    .dataframe tbody tr th {\n",
       "        vertical-align: top;\n",
       "    }\n",
       "\n",
       "    .dataframe thead th {\n",
       "        text-align: right;\n",
       "    }\n",
       "</style>\n",
       "<table border=\"1\" class=\"dataframe\">\n",
       "  <thead>\n",
       "    <tr style=\"text-align: right;\">\n",
       "      <th></th>\n",
       "      <th>smoking_status</th>\n",
       "      <th>id</th>\n",
       "    </tr>\n",
       "  </thead>\n",
       "  <tbody>\n",
       "    <tr>\n",
       "      <th>0</th>\n",
       "      <td>Unknown</td>\n",
       "      <td>1544</td>\n",
       "    </tr>\n",
       "    <tr>\n",
       "      <th>1</th>\n",
       "      <td>formerly smoked</td>\n",
       "      <td>885</td>\n",
       "    </tr>\n",
       "    <tr>\n",
       "      <th>2</th>\n",
       "      <td>never smoked</td>\n",
       "      <td>1892</td>\n",
       "    </tr>\n",
       "    <tr>\n",
       "      <th>3</th>\n",
       "      <td>smokes</td>\n",
       "      <td>789</td>\n",
       "    </tr>\n",
       "  </tbody>\n",
       "</table>\n",
       "</div>"
      ],
      "text/plain": [
       "    smoking_status    id\n",
       "0          Unknown  1544\n",
       "1  formerly smoked   885\n",
       "2     never smoked  1892\n",
       "3           smokes   789"
      ]
     },
     "execution_count": 8,
     "metadata": {},
     "output_type": "execute_result"
    }
   ],
   "source": [
    "# we also have 'unknown' in smoking_status - lets check how often is that\n",
    "stroke_data.groupby(by='smoking_status',as_index=False)['id'].count()"
   ]
  },
  {
   "cell_type": "markdown",
   "metadata": {},
   "source": [
    "since the category of unknown is too big to be replaced with any other value we will leave it be and treat it as a new category itself"
   ]
  },
  {
   "cell_type": "markdown",
   "metadata": {},
   "source": [
    "### 2. Train the models "
   ]
  },
  {
   "cell_type": "code",
   "execution_count": 9,
   "metadata": {},
   "outputs": [
    {
     "name": "stdout",
     "output_type": "stream",
     "text": [
      "% of positive class in the data :\n",
      "Had stroke -  249\n",
      "Did not have stroke -  4861\n",
      "% of Strokes - 4.9 %\n"
     ]
    }
   ],
   "source": [
    "###################################################\n",
    "# Split data into test and train\n",
    "###################################################\n",
    "\n",
    "x = stroke_data.drop(['id','stroke'], axis=1).copy()\n",
    "y = stroke_data['stroke'].copy()\n",
    "\n",
    "print('% of positive class in the data :')\n",
    "print('Had stroke - ', len(y[y==1]))\n",
    "print('Did not have stroke - ', len(y[y==0]))\n",
    "print('% of Strokes -', np.round(100*len(y[y==1])/len(y),1),'%')"
   ]
  },
  {
   "cell_type": "markdown",
   "metadata": {},
   "source": [
    "Only ~5% of the data has positive value for stroke. This is highly imbalanced dataset and might require some correction before training the models. However, let's try the modelling process before we solve it."
   ]
  },
  {
   "cell_type": "code",
   "execution_count": 10,
   "metadata": {},
   "outputs": [
    {
     "name": "stdout",
     "output_type": "stream",
     "text": [
      "Rows in x : 5110\n",
      "Rows in train : 4088\n",
      "Rows in test : 1022\n"
     ]
    },
    {
     "data": {
      "text/html": [
       "<div>\n",
       "<style scoped>\n",
       "    .dataframe tbody tr th:only-of-type {\n",
       "        vertical-align: middle;\n",
       "    }\n",
       "\n",
       "    .dataframe tbody tr th {\n",
       "        vertical-align: top;\n",
       "    }\n",
       "\n",
       "    .dataframe thead th {\n",
       "        text-align: right;\n",
       "    }\n",
       "</style>\n",
       "<table border=\"1\" class=\"dataframe\">\n",
       "  <thead>\n",
       "    <tr style=\"text-align: right;\">\n",
       "      <th></th>\n",
       "      <th>age</th>\n",
       "      <th>hypertension</th>\n",
       "      <th>heart_disease</th>\n",
       "      <th>avg_glucose_level</th>\n",
       "      <th>bmi</th>\n",
       "      <th>gender_Female</th>\n",
       "      <th>gender_Male</th>\n",
       "      <th>gender_Other</th>\n",
       "      <th>ever_married_No</th>\n",
       "      <th>ever_married_Yes</th>\n",
       "      <th>...</th>\n",
       "      <th>work_type_Never_worked</th>\n",
       "      <th>work_type_Private</th>\n",
       "      <th>work_type_Self-employed</th>\n",
       "      <th>work_type_children</th>\n",
       "      <th>Residence_type_Rural</th>\n",
       "      <th>Residence_type_Urban</th>\n",
       "      <th>smoking_status_Unknown</th>\n",
       "      <th>smoking_status_formerly smoked</th>\n",
       "      <th>smoking_status_never smoked</th>\n",
       "      <th>smoking_status_smokes</th>\n",
       "    </tr>\n",
       "  </thead>\n",
       "  <tbody>\n",
       "    <tr>\n",
       "      <th>2332</th>\n",
       "      <td>1.139889</td>\n",
       "      <td>-0.328602</td>\n",
       "      <td>4.185032</td>\n",
       "      <td>2.035868</td>\n",
       "      <td>1.793723</td>\n",
       "      <td>1</td>\n",
       "      <td>0</td>\n",
       "      <td>0</td>\n",
       "      <td>1</td>\n",
       "      <td>0</td>\n",
       "      <td>...</td>\n",
       "      <td>0</td>\n",
       "      <td>1</td>\n",
       "      <td>0</td>\n",
       "      <td>0</td>\n",
       "      <td>0</td>\n",
       "      <td>1</td>\n",
       "      <td>0</td>\n",
       "      <td>0</td>\n",
       "      <td>0</td>\n",
       "      <td>1</td>\n",
       "    </tr>\n",
       "    <tr>\n",
       "      <th>4347</th>\n",
       "      <td>-0.584978</td>\n",
       "      <td>-0.328602</td>\n",
       "      <td>-0.238947</td>\n",
       "      <td>-0.388428</td>\n",
       "      <td>2.131506</td>\n",
       "      <td>1</td>\n",
       "      <td>0</td>\n",
       "      <td>0</td>\n",
       "      <td>0</td>\n",
       "      <td>1</td>\n",
       "      <td>...</td>\n",
       "      <td>0</td>\n",
       "      <td>1</td>\n",
       "      <td>0</td>\n",
       "      <td>0</td>\n",
       "      <td>0</td>\n",
       "      <td>1</td>\n",
       "      <td>0</td>\n",
       "      <td>0</td>\n",
       "      <td>1</td>\n",
       "      <td>0</td>\n",
       "    </tr>\n",
       "    <tr>\n",
       "      <th>3156</th>\n",
       "      <td>-0.629206</td>\n",
       "      <td>-0.328602</td>\n",
       "      <td>-0.238947</td>\n",
       "      <td>-0.817765</td>\n",
       "      <td>-0.271946</td>\n",
       "      <td>1</td>\n",
       "      <td>0</td>\n",
       "      <td>0</td>\n",
       "      <td>0</td>\n",
       "      <td>1</td>\n",
       "      <td>...</td>\n",
       "      <td>0</td>\n",
       "      <td>0</td>\n",
       "      <td>1</td>\n",
       "      <td>0</td>\n",
       "      <td>1</td>\n",
       "      <td>0</td>\n",
       "      <td>0</td>\n",
       "      <td>0</td>\n",
       "      <td>1</td>\n",
       "      <td>0</td>\n",
       "    </tr>\n",
       "    <tr>\n",
       "      <th>1564</th>\n",
       "      <td>-0.806115</td>\n",
       "      <td>-0.328602</td>\n",
       "      <td>-0.238947</td>\n",
       "      <td>-0.825274</td>\n",
       "      <td>3.404685</td>\n",
       "      <td>1</td>\n",
       "      <td>0</td>\n",
       "      <td>0</td>\n",
       "      <td>0</td>\n",
       "      <td>1</td>\n",
       "      <td>...</td>\n",
       "      <td>0</td>\n",
       "      <td>1</td>\n",
       "      <td>0</td>\n",
       "      <td>0</td>\n",
       "      <td>1</td>\n",
       "      <td>0</td>\n",
       "      <td>0</td>\n",
       "      <td>1</td>\n",
       "      <td>0</td>\n",
       "      <td>0</td>\n",
       "    </tr>\n",
       "    <tr>\n",
       "      <th>12</th>\n",
       "      <td>0.476478</td>\n",
       "      <td>-0.328602</td>\n",
       "      <td>-0.238947</td>\n",
       "      <td>-0.036168</td>\n",
       "      <td>-0.206987</td>\n",
       "      <td>1</td>\n",
       "      <td>0</td>\n",
       "      <td>0</td>\n",
       "      <td>0</td>\n",
       "      <td>1</td>\n",
       "      <td>...</td>\n",
       "      <td>0</td>\n",
       "      <td>1</td>\n",
       "      <td>0</td>\n",
       "      <td>0</td>\n",
       "      <td>0</td>\n",
       "      <td>1</td>\n",
       "      <td>0</td>\n",
       "      <td>0</td>\n",
       "      <td>0</td>\n",
       "      <td>1</td>\n",
       "    </tr>\n",
       "  </tbody>\n",
       "</table>\n",
       "<p>5 rows × 21 columns</p>\n",
       "</div>"
      ],
      "text/plain": [
       "           age  hypertension  heart_disease  avg_glucose_level       bmi  \\\n",
       "2332  1.139889     -0.328602       4.185032           2.035868  1.793723   \n",
       "4347 -0.584978     -0.328602      -0.238947          -0.388428  2.131506   \n",
       "3156 -0.629206     -0.328602      -0.238947          -0.817765 -0.271946   \n",
       "1564 -0.806115     -0.328602      -0.238947          -0.825274  3.404685   \n",
       "12    0.476478     -0.328602      -0.238947          -0.036168 -0.206987   \n",
       "\n",
       "      gender_Female  gender_Male  gender_Other  ever_married_No  \\\n",
       "2332              1            0             0                1   \n",
       "4347              1            0             0                0   \n",
       "3156              1            0             0                0   \n",
       "1564              1            0             0                0   \n",
       "12                1            0             0                0   \n",
       "\n",
       "      ever_married_Yes  ...  work_type_Never_worked  work_type_Private  \\\n",
       "2332                 0  ...                       0                  1   \n",
       "4347                 1  ...                       0                  1   \n",
       "3156                 1  ...                       0                  0   \n",
       "1564                 1  ...                       0                  1   \n",
       "12                   1  ...                       0                  1   \n",
       "\n",
       "      work_type_Self-employed  work_type_children  Residence_type_Rural  \\\n",
       "2332                        0                   0                     0   \n",
       "4347                        0                   0                     0   \n",
       "3156                        1                   0                     1   \n",
       "1564                        0                   0                     1   \n",
       "12                          0                   0                     0   \n",
       "\n",
       "      Residence_type_Urban  smoking_status_Unknown  \\\n",
       "2332                     1                       0   \n",
       "4347                     1                       0   \n",
       "3156                     0                       0   \n",
       "1564                     0                       0   \n",
       "12                       1                       0   \n",
       "\n",
       "      smoking_status_formerly smoked  smoking_status_never smoked  \\\n",
       "2332                               0                            0   \n",
       "4347                               0                            1   \n",
       "3156                               0                            1   \n",
       "1564                               1                            0   \n",
       "12                                 0                            0   \n",
       "\n",
       "      smoking_status_smokes  \n",
       "2332                      1  \n",
       "4347                      0  \n",
       "3156                      0  \n",
       "1564                      0  \n",
       "12                        1  \n",
       "\n",
       "[5 rows x 21 columns]"
      ]
     },
     "execution_count": 10,
     "metadata": {},
     "output_type": "execute_result"
    }
   ],
   "source": [
    "# Standadrdize the numeric columns\n",
    "for c in x.columns:\n",
    "    if x[c].dtype == 'int64' or x[c].dtype == 'float64':\n",
    "        x[c] = StandardScaler().fit_transform(x[c].values.reshape(-1,1))\n",
    "        \n",
    "# convert string variables to one hot encoding\n",
    "x = pd.get_dummies(x)\n",
    "\n",
    "#split 80-20 training vs test data\n",
    "x_train, x_test, y_train, y_test = train_test_split(x,y,train_size=0.8, random_state=1234)\n",
    "\n",
    "print('Rows in x :', len(x))\n",
    "print('Rows in train :', len(x_train))\n",
    "print('Rows in test :', len(x_test))\n",
    "x_train.head()"
   ]
  },
  {
   "cell_type": "code",
   "execution_count": 49,
   "metadata": {},
   "outputs": [
    {
     "name": "stdout",
     "output_type": "stream",
     "text": [
      "********************************************************\n",
      "Model name : Logistic Reg\n"
     ]
    },
    {
     "name": "stderr",
     "output_type": "stream",
     "text": [
      "/Users/Akash/anaconda3/lib/python3.7/site-packages/ipykernel_launcher.py:31: RuntimeWarning: invalid value encountered in long_scalars\n"
     ]
    },
    {
     "data": {
      "image/png": "[encoded data removed]",
      "text/plain": [
       "<Figure size 432x288 with 2 Axes>"
      ]
     },
     "metadata": {
      "needs_background": "light"
     },
     "output_type": "display_data"
    },
    {
     "name": "stderr",
     "output_type": "stream",
     "text": [
      "/Users/Akash/anaconda3/lib/python3.7/site-packages/ipykernel_launcher.py:31: RuntimeWarning: invalid value encountered in long_scalars\n"
     ]
    },
    {
     "name": "stdout",
     "output_type": "stream",
     "text": [
      "********************************************************\n",
      "********************************************************\n",
      "Model name : Decision Tree\n"
     ]
    },
    {
     "data": {
      "image/png": "[encoded data removed]",
      "text/plain": [
       "<Figure size 432x288 with 2 Axes>"
      ]
     },
     "metadata": {
      "needs_background": "light"
     },
     "output_type": "display_data"
    },
    {
     "name": "stdout",
     "output_type": "stream",
     "text": [
      "********************************************************\n",
      "********************************************************\n",
      "Model name : Random Forest\n"
     ]
    },
    {
     "name": "stderr",
     "output_type": "stream",
     "text": [
      "/Users/Akash/anaconda3/lib/python3.7/site-packages/ipykernel_launcher.py:31: RuntimeWarning: invalid value encountered in long_scalars\n"
     ]
    },
    {
     "data": {
      "image/png": "[encoded data removed]",
      "text/plain": [
       "<Figure size 432x288 with 2 Axes>"
      ]
     },
     "metadata": {
      "needs_background": "light"
     },
     "output_type": "display_data"
    },
    {
     "name": "stdout",
     "output_type": "stream",
     "text": [
      "********************************************************\n",
      "********************************************************\n",
      "Model name : Linear SVM\n"
     ]
    },
    {
     "name": "stderr",
     "output_type": "stream",
     "text": [
      "/Users/Akash/anaconda3/lib/python3.7/site-packages/ipykernel_launcher.py:31: RuntimeWarning: invalid value encountered in long_scalars\n"
     ]
    },
    {
     "data": {
      "image/png": "[encoded data removed]",
      "text/plain": [
       "<Figure size 432x288 with 2 Axes>"
      ]
     },
     "metadata": {
      "needs_background": "light"
     },
     "output_type": "display_data"
    },
    {
     "name": "stdout",
     "output_type": "stream",
     "text": [
      "********************************************************\n"
     ]
    },
    {
     "name": "stderr",
     "output_type": "stream",
     "text": [
      "/Users/Akash/anaconda3/lib/python3.7/site-packages/ipykernel_launcher.py:31: RuntimeWarning: invalid value encountered in long_scalars\n"
     ]
    },
    {
     "name": "stdout",
     "output_type": "stream",
     "text": [
      "********************************************************\n",
      "Model name : RBF SVM\n"
     ]
    },
    {
     "data": {
      "image/png": "[encoded data removed]",
      "text/plain": [
       "<Figure size 432x288 with 2 Axes>"
      ]
     },
     "metadata": {
      "needs_background": "light"
     },
     "output_type": "display_data"
    },
    {
     "name": "stdout",
     "output_type": "stream",
     "text": [
      "********************************************************\n",
      "********************************************************\n",
      "Model name : Naive Bayes\n"
     ]
    },
    {
     "data": {
      "image/png": "[encoded data removed]",
      "text/plain": [
       "<Figure size 432x288 with 2 Axes>"
      ]
     },
     "metadata": {
      "needs_background": "light"
     },
     "output_type": "display_data"
    },
    {
     "name": "stdout",
     "output_type": "stream",
     "text": [
      "********************************************************\n",
      "********************************************************\n",
      "Model name : Nearest Neighbors\n"
     ]
    },
    {
     "data": {
      "image/png": "[encoded data removed]",
      "text/plain": [
       "<Figure size 432x288 with 2 Axes>"
      ]
     },
     "metadata": {
      "needs_background": "light"
     },
     "output_type": "display_data"
    },
    {
     "name": "stdout",
     "output_type": "stream",
     "text": [
      "********************************************************\n"
     ]
    }
   ],
   "source": [
    "###################################################\n",
    "# Train the models\n",
    "###################################################\n",
    "\n",
    "model_names = [\"Logistic Reg\", \"Decision Tree\", \"Random Forest\", \"Linear SVM\", \"RBF SVM\",\\\n",
    "               \"Naive Bayes\", \"Nearest Neighbors\"]\n",
    "\n",
    "model_param = [\n",
    "    LogisticRegression(),\n",
    "    DecisionTreeClassifier(max_depth=5, random_state=123),\n",
    "    RandomForestClassifier(max_depth=10, n_estimators=20, max_features=1, random_state=123),\n",
    "    SVC(kernel=\"linear\", C=0.025),\n",
    "    SVC(gamma=2, C=1),\n",
    "    GaussianNB(),\n",
    "    KNeighborsClassifier(10)]\n",
    "\n",
    "model_compare = pd.DataFrame(columns=['model_name', 'true_neg', 'false_pos', 'false_neg', 'true_pos',\\\n",
    "                 'precision', 'recall', 'accuracy', 'f_score'])\n",
    "\n",
    "rn = 0\n",
    "\n",
    "for name, model in zip(model_names, model_param):\n",
    "    cl_model = model.fit(x_train, y_train)\n",
    "    \n",
    "    y_pred = cl_model.predict(x_test)\n",
    "    cm = confusion_matrix(y_test, y_pred)\n",
    "    tn = cm[0,0]\n",
    "    fp = cm[0,1]\n",
    "    fn = cm[1,0]\n",
    "    tp = cm[1,1]\n",
    "    prec = np.round(tp/(tp+fp),2)\n",
    "    rec = np.round(tp/(tp+fn),2)\n",
    "    acc = np.round((tp+tn)/(tp+tn+fp+fn),2)\n",
    "    fscore = np.round(f1_score(y_test, y_pred),2)\n",
    "    \n",
    "    temp = [name, tn, fp, fn, tp, prec, rec, acc, fscore]\n",
    "    model_compare.loc[rn] = temp\n",
    "    rn = rn + 1\n",
    "    \n",
    "    print('********************************************************')\n",
    "    print('Model name :', name)\n",
    "    plot_confusion_matrix(cl_model, x_test, y_test, display_labels=['did not have Stroke', 'had Stroke'])\n",
    "    plt.title('Confusion Matrix for '+str(name))\n",
    "    plt.show()\n",
    "    print('********************************************************')"
   ]
  },
  {
   "cell_type": "code",
   "execution_count": 50,
   "metadata": {},
   "outputs": [
    {
     "data": {
      "text/html": [
       "<div>\n",
       "<style scoped>\n",
       "    .dataframe tbody tr th:only-of-type {\n",
       "        vertical-align: middle;\n",
       "    }\n",
       "\n",
       "    .dataframe tbody tr th {\n",
       "        vertical-align: top;\n",
       "    }\n",
       "\n",
       "    .dataframe thead th {\n",
       "        text-align: right;\n",
       "    }\n",
       "</style>\n",
       "<table border=\"1\" class=\"dataframe\">\n",
       "  <thead>\n",
       "    <tr style=\"text-align: right;\">\n",
       "      <th></th>\n",
       "      <th>model_name</th>\n",
       "      <th>true_neg</th>\n",
       "      <th>false_pos</th>\n",
       "      <th>false_neg</th>\n",
       "      <th>true_pos</th>\n",
       "      <th>precision</th>\n",
       "      <th>recall</th>\n",
       "      <th>accuracy</th>\n",
       "      <th>f_score</th>\n",
       "    </tr>\n",
       "  </thead>\n",
       "  <tbody>\n",
       "    <tr>\n",
       "      <th>0</th>\n",
       "      <td>Logistic Reg</td>\n",
       "      <td>971</td>\n",
       "      <td>0</td>\n",
       "      <td>51</td>\n",
       "      <td>0</td>\n",
       "      <td>NaN</td>\n",
       "      <td>0.00</td>\n",
       "      <td>0.95</td>\n",
       "      <td>0.00</td>\n",
       "    </tr>\n",
       "    <tr>\n",
       "      <th>1</th>\n",
       "      <td>Decision Tree</td>\n",
       "      <td>971</td>\n",
       "      <td>0</td>\n",
       "      <td>51</td>\n",
       "      <td>0</td>\n",
       "      <td>NaN</td>\n",
       "      <td>0.00</td>\n",
       "      <td>0.95</td>\n",
       "      <td>0.00</td>\n",
       "    </tr>\n",
       "    <tr>\n",
       "      <th>2</th>\n",
       "      <td>Random Forest</td>\n",
       "      <td>971</td>\n",
       "      <td>0</td>\n",
       "      <td>51</td>\n",
       "      <td>0</td>\n",
       "      <td>NaN</td>\n",
       "      <td>0.00</td>\n",
       "      <td>0.95</td>\n",
       "      <td>0.00</td>\n",
       "    </tr>\n",
       "    <tr>\n",
       "      <th>3</th>\n",
       "      <td>Linear SVM</td>\n",
       "      <td>971</td>\n",
       "      <td>0</td>\n",
       "      <td>51</td>\n",
       "      <td>0</td>\n",
       "      <td>NaN</td>\n",
       "      <td>0.00</td>\n",
       "      <td>0.95</td>\n",
       "      <td>0.00</td>\n",
       "    </tr>\n",
       "    <tr>\n",
       "      <th>4</th>\n",
       "      <td>RBF SVM</td>\n",
       "      <td>971</td>\n",
       "      <td>0</td>\n",
       "      <td>51</td>\n",
       "      <td>0</td>\n",
       "      <td>NaN</td>\n",
       "      <td>0.00</td>\n",
       "      <td>0.95</td>\n",
       "      <td>0.00</td>\n",
       "    </tr>\n",
       "    <tr>\n",
       "      <th>5</th>\n",
       "      <td>Naive Bayes</td>\n",
       "      <td>251</td>\n",
       "      <td>720</td>\n",
       "      <td>1</td>\n",
       "      <td>50</td>\n",
       "      <td>0.06</td>\n",
       "      <td>0.98</td>\n",
       "      <td>0.29</td>\n",
       "      <td>0.12</td>\n",
       "    </tr>\n",
       "    <tr>\n",
       "      <th>6</th>\n",
       "      <td>Nearest Neighbors</td>\n",
       "      <td>970</td>\n",
       "      <td>1</td>\n",
       "      <td>51</td>\n",
       "      <td>0</td>\n",
       "      <td>0.00</td>\n",
       "      <td>0.00</td>\n",
       "      <td>0.95</td>\n",
       "      <td>0.00</td>\n",
       "    </tr>\n",
       "  </tbody>\n",
       "</table>\n",
       "</div>"
      ],
      "text/plain": [
       "          model_name true_neg false_pos false_neg true_pos  precision  recall  \\\n",
       "0       Logistic Reg      971         0        51        0        NaN    0.00   \n",
       "1      Decision Tree      971         0        51        0        NaN    0.00   \n",
       "2      Random Forest      971         0        51        0        NaN    0.00   \n",
       "3         Linear SVM      971         0        51        0        NaN    0.00   \n",
       "4            RBF SVM      971         0        51        0        NaN    0.00   \n",
       "5        Naive Bayes      251       720         1       50       0.06    0.98   \n",
       "6  Nearest Neighbors      970         1        51        0       0.00    0.00   \n",
       "\n",
       "   accuracy  f_score  \n",
       "0      0.95     0.00  \n",
       "1      0.95     0.00  \n",
       "2      0.95     0.00  \n",
       "3      0.95     0.00  \n",
       "4      0.95     0.00  \n",
       "5      0.29     0.12  \n",
       "6      0.95     0.00  "
      ]
     },
     "execution_count": 50,
     "metadata": {},
     "output_type": "execute_result"
    }
   ],
   "source": [
    "# see the comparison table\n",
    "model_compare"
   ]
  },
  {
   "cell_type": "markdown",
   "metadata": {},
   "source": [
    "Clearly the models are not predicting positive class (stroke = 1) effectively enough as most of them have 0 precision and recall values.\n",
    "\n",
    "We need to improve our prediction by improving upon the imbalance in the data"
   ]
  },
  {
   "cell_type": "markdown",
   "metadata": {},
   "source": [
    "### 3. Oversampling the minority class - SMOTE \n",
    "\n",
    "SMOTE (**Synthetic Minority Oversampling TEchnique**) is widely used approach to synthesizing new examples. The original paper on SMOTE is [here](https://arxiv.org/abs/1106.1813) and the details of implementation can be found here - https://machinelearningmastery.com/smote-oversampling-for-imbalanced-classification/ \n",
    "\n",
    "We will use this technique to up sample the positive stroke class and then train the models.\n",
    "\n",
    "The correct application of oversampling is to apply the method to the training dataset only, then evaluate the model on the non-transformed test set.\n",
    "\n",
    "As mentioned in the paper, it is believed that SMOTE (over sampling) performs better when combined with undersampling of the majority class, such as random undersampling. We can achieve this by simply adding a RandomUnderSampler step to the Pipeline.\n",
    "\n",
    "We will first oversample the minority class with SMOTE to about ~20% (currently it is 5%), then undersample the majority class to achieve about a 1:2 ratio."
   ]
  },
  {
   "cell_type": "code",
   "execution_count": 42,
   "metadata": {},
   "outputs": [
    {
     "name": "stdout",
     "output_type": "stream",
     "text": [
      "**********************************************************\n",
      "Before sampling - \n",
      "Shape of x train : (4088, 21)\n",
      "Shape of y train : (4088,)\n",
      "% of positives of all - 4.8 %\n",
      "% of positives of negatives - 5.1 %\n",
      "**********************************************************\n",
      "After sampling - \n",
      "Shape of x train : (2334, 21)\n",
      "Shape of y train : (2334,)\n",
      "% of positives - 33.3 %\n",
      "% of positives of negatives - 50.0 %\n"
     ]
    }
   ],
   "source": [
    "###################################################\n",
    "# apply the sampling transformation on the training data\n",
    "###################################################\n",
    "\n",
    "# define pipeline\n",
    "# here sampling_strategy is defined as : (# sample of minority) / (# samples of majority)\n",
    "over = SMOTE(sampling_strategy=0.2)\n",
    "under = RandomUnderSampler(sampling_strategy=0.5)\n",
    "steps = [('over', over), ('under', under)]\n",
    "pipeline = Pipeline(steps=steps)\n",
    "\n",
    "x_train_sm, y_train_sm = pipeline.fit_resample(x_train, y_train)\n",
    "\n",
    "print('**********************************************************')\n",
    "print('Before sampling - ')\n",
    "print('Shape of x train :', x_train.shape)\n",
    "print('Shape of y train :', y_train.shape)\n",
    "print('% of positives of all -', np.round(100*len(y_train[y_train==1])/len(y_train),1),'%')\n",
    "print('% of positives of negatives -', \\\n",
    "      np.round(100*len(y_train[y_train==1])/len(y_train[y_train==0]),1),'%')\n",
    "print('**********************************************************')\n",
    "print('After sampling - ')\n",
    "print('Shape of x train :', x_train_sm.shape)\n",
    "print('Shape of y train :', y_train_sm.shape)\n",
    "print('% of positives -', np.round(100*len(y_train_sm[y_train_sm==1])/len(y_train_sm),1),'%')\n",
    "print('% of positives of negatives -', \\\n",
    "      np.round(100*len(y_train_sm[y_train_sm==1])/len(y_train_sm[y_train_sm==0]),1),'%')"
   ]
  },
  {
   "cell_type": "code",
   "execution_count": 51,
   "metadata": {},
   "outputs": [
    {
     "name": "stdout",
     "output_type": "stream",
     "text": [
      "********************************************************\n",
      "Model name : Logistic Reg\n"
     ]
    },
    {
     "data": {
      "image/png": "[encoded data removed]",
      "text/plain": [
       "<Figure size 432x288 with 2 Axes>"
      ]
     },
     "metadata": {
      "needs_background": "light"
     },
     "output_type": "display_data"
    },
    {
     "name": "stdout",
     "output_type": "stream",
     "text": [
      "********************************************************\n",
      "********************************************************\n",
      "Model name : Decision Tree\n"
     ]
    },
    {
     "data": {
      "image/png": "[encoded data removed]",
      "text/plain": [
       "<Figure size 432x288 with 2 Axes>"
      ]
     },
     "metadata": {
      "needs_background": "light"
     },
     "output_type": "display_data"
    },
    {
     "name": "stdout",
     "output_type": "stream",
     "text": [
      "********************************************************\n",
      "********************************************************\n",
      "Model name : Random Forest\n"
     ]
    },
    {
     "data": {
      "image/png": "[encoded data removed]",
      "text/plain": [
       "<Figure size 432x288 with 2 Axes>"
      ]
     },
     "metadata": {
      "needs_background": "light"
     },
     "output_type": "display_data"
    },
    {
     "name": "stdout",
     "output_type": "stream",
     "text": [
      "********************************************************\n",
      "********************************************************\n",
      "Model name : Linear SVM\n"
     ]
    },
    {
     "data": {
      "image/png": "[encoded data removed]",
      "text/plain": [
       "<Figure size 432x288 with 2 Axes>"
      ]
     },
     "metadata": {
      "needs_background": "light"
     },
     "output_type": "display_data"
    },
    {
     "name": "stdout",
     "output_type": "stream",
     "text": [
      "********************************************************\n",
      "********************************************************\n",
      "Model name : RBF SVM\n"
     ]
    },
    {
     "data": {
      "image/png": "[encoded data removed]",
      "text/plain": [
       "<Figure size 432x288 with 2 Axes>"
      ]
     },
     "metadata": {
      "needs_background": "light"
     },
     "output_type": "display_data"
    },
    {
     "name": "stdout",
     "output_type": "stream",
     "text": [
      "********************************************************\n",
      "********************************************************\n",
      "Model name : Naive Bayes\n"
     ]
    },
    {
     "data": {
      "image/png": "[encoded data removed]",
      "text/plain": [
       "<Figure size 432x288 with 2 Axes>"
      ]
     },
     "metadata": {
      "needs_background": "light"
     },
     "output_type": "display_data"
    },
    {
     "name": "stdout",
     "output_type": "stream",
     "text": [
      "********************************************************\n",
      "********************************************************\n",
      "Model name : Nearest Neighbors\n"
     ]
    },
    {
     "data": {
      "image/png": "[encoded data removed]",
      "text/plain": [
       "<Figure size 432x288 with 2 Axes>"
      ]
     },
     "metadata": {
      "needs_background": "light"
     },
     "output_type": "display_data"
    },
    {
     "name": "stdout",
     "output_type": "stream",
     "text": [
      "********************************************************\n"
     ]
    }
   ],
   "source": [
    "###################################################\n",
    "# Train the models after over sampling training data\n",
    "###################################################\n",
    "\n",
    "model_names = [\"Logistic Reg\", \"Decision Tree\", \"Random Forest\", \"Linear SVM\", \"RBF SVM\",\\\n",
    "               \"Naive Bayes\", \"Nearest Neighbors\"]\n",
    "\n",
    "model_param = [\n",
    "    LogisticRegression(),\n",
    "    DecisionTreeClassifier(max_depth=5, random_state=123),\n",
    "    RandomForestClassifier(max_depth=10, n_estimators=20, max_features=1, random_state=123),\n",
    "    SVC(kernel=\"linear\", C=0.025),\n",
    "    SVC(gamma=2, C=1),\n",
    "    GaussianNB(),\n",
    "    KNeighborsClassifier(10)]\n",
    "\n",
    "model_compare_sm = pd.DataFrame(columns=['model_name', 'true_neg', 'false_pos', 'false_neg', 'true_pos',\\\n",
    "                 'precision', 'recall', 'accuracy', 'f_score'])\n",
    "\n",
    "rn = 0\n",
    "\n",
    "for name, model in zip(model_names, model_param):\n",
    "    \n",
    "    cl_model = model.fit(x_train_sm, y_train_sm)\n",
    "    \n",
    "    y_pred = cl_model.predict(x_test)\n",
    "    cm = confusion_matrix(y_test, y_pred)\n",
    "    tn = cm[0,0]\n",
    "    fp = cm[0,1]\n",
    "    fn = cm[1,0]\n",
    "    tp = cm[1,1]\n",
    "    prec = np.round(tp/(tp+fp),2)\n",
    "    rec = np.round(tp/(tp+fn),2)\n",
    "    acc = np.round((tp+tn)/(tp+tn+fp+fn),2)\n",
    "    fscore = np.round(f1_score(y_test, y_pred),2)\n",
    "    \n",
    "    temp = [name, tn, fp, fn, tp, prec, rec, acc, fscore]\n",
    "    model_compare_sm.loc[rn] = temp\n",
    "    rn = rn + 1\n",
    "    \n",
    "    print('********************************************************')\n",
    "    print('Model name :', name)\n",
    "    plot_confusion_matrix(cl_model, x_test, y_test, display_labels=['did not have Stroke', 'had Stroke'])\n",
    "    plt.title('Confusion Matrix for '+str(name))\n",
    "    plt.show()\n",
    "    print('********************************************************')"
   ]
  },
  {
   "cell_type": "code",
   "execution_count": 52,
   "metadata": {},
   "outputs": [
    {
     "data": {
      "text/html": [
       "<div>\n",
       "<style scoped>\n",
       "    .dataframe tbody tr th:only-of-type {\n",
       "        vertical-align: middle;\n",
       "    }\n",
       "\n",
       "    .dataframe tbody tr th {\n",
       "        vertical-align: top;\n",
       "    }\n",
       "\n",
       "    .dataframe thead th {\n",
       "        text-align: right;\n",
       "    }\n",
       "</style>\n",
       "<table border=\"1\" class=\"dataframe\">\n",
       "  <thead>\n",
       "    <tr style=\"text-align: right;\">\n",
       "      <th></th>\n",
       "      <th>model_name</th>\n",
       "      <th>true_neg</th>\n",
       "      <th>false_pos</th>\n",
       "      <th>false_neg</th>\n",
       "      <th>true_pos</th>\n",
       "      <th>precision</th>\n",
       "      <th>recall</th>\n",
       "      <th>accuracy</th>\n",
       "      <th>f_score</th>\n",
       "    </tr>\n",
       "  </thead>\n",
       "  <tbody>\n",
       "    <tr>\n",
       "      <th>0</th>\n",
       "      <td>Logistic Reg</td>\n",
       "      <td>890</td>\n",
       "      <td>81</td>\n",
       "      <td>36</td>\n",
       "      <td>15</td>\n",
       "      <td>0.16</td>\n",
       "      <td>0.29</td>\n",
       "      <td>0.89</td>\n",
       "      <td>0.20</td>\n",
       "    </tr>\n",
       "    <tr>\n",
       "      <th>1</th>\n",
       "      <td>Decision Tree</td>\n",
       "      <td>823</td>\n",
       "      <td>148</td>\n",
       "      <td>23</td>\n",
       "      <td>28</td>\n",
       "      <td>0.16</td>\n",
       "      <td>0.55</td>\n",
       "      <td>0.83</td>\n",
       "      <td>0.25</td>\n",
       "    </tr>\n",
       "    <tr>\n",
       "      <th>2</th>\n",
       "      <td>Random Forest</td>\n",
       "      <td>917</td>\n",
       "      <td>54</td>\n",
       "      <td>42</td>\n",
       "      <td>9</td>\n",
       "      <td>0.14</td>\n",
       "      <td>0.18</td>\n",
       "      <td>0.91</td>\n",
       "      <td>0.16</td>\n",
       "    </tr>\n",
       "    <tr>\n",
       "      <th>3</th>\n",
       "      <td>Linear SVM</td>\n",
       "      <td>856</td>\n",
       "      <td>115</td>\n",
       "      <td>26</td>\n",
       "      <td>25</td>\n",
       "      <td>0.18</td>\n",
       "      <td>0.49</td>\n",
       "      <td>0.86</td>\n",
       "      <td>0.26</td>\n",
       "    </tr>\n",
       "    <tr>\n",
       "      <th>4</th>\n",
       "      <td>RBF SVM</td>\n",
       "      <td>932</td>\n",
       "      <td>39</td>\n",
       "      <td>49</td>\n",
       "      <td>2</td>\n",
       "      <td>0.05</td>\n",
       "      <td>0.04</td>\n",
       "      <td>0.91</td>\n",
       "      <td>0.04</td>\n",
       "    </tr>\n",
       "    <tr>\n",
       "      <th>5</th>\n",
       "      <td>Naive Bayes</td>\n",
       "      <td>300</td>\n",
       "      <td>671</td>\n",
       "      <td>1</td>\n",
       "      <td>50</td>\n",
       "      <td>0.07</td>\n",
       "      <td>0.98</td>\n",
       "      <td>0.34</td>\n",
       "      <td>0.13</td>\n",
       "    </tr>\n",
       "    <tr>\n",
       "      <th>6</th>\n",
       "      <td>Nearest Neighbors</td>\n",
       "      <td>825</td>\n",
       "      <td>146</td>\n",
       "      <td>25</td>\n",
       "      <td>26</td>\n",
       "      <td>0.15</td>\n",
       "      <td>0.51</td>\n",
       "      <td>0.83</td>\n",
       "      <td>0.23</td>\n",
       "    </tr>\n",
       "  </tbody>\n",
       "</table>\n",
       "</div>"
      ],
      "text/plain": [
       "          model_name true_neg false_pos false_neg true_pos  precision  recall  \\\n",
       "0       Logistic Reg      890        81        36       15       0.16    0.29   \n",
       "1      Decision Tree      823       148        23       28       0.16    0.55   \n",
       "2      Random Forest      917        54        42        9       0.14    0.18   \n",
       "3         Linear SVM      856       115        26       25       0.18    0.49   \n",
       "4            RBF SVM      932        39        49        2       0.05    0.04   \n",
       "5        Naive Bayes      300       671         1       50       0.07    0.98   \n",
       "6  Nearest Neighbors      825       146        25       26       0.15    0.51   \n",
       "\n",
       "   accuracy  f_score  \n",
       "0      0.89     0.20  \n",
       "1      0.83     0.25  \n",
       "2      0.91     0.16  \n",
       "3      0.86     0.26  \n",
       "4      0.91     0.04  \n",
       "5      0.34     0.13  \n",
       "6      0.83     0.23  "
      ]
     },
     "execution_count": 52,
     "metadata": {},
     "output_type": "execute_result"
    }
   ],
   "source": [
    "# show the model comparison table\n",
    "model_compare_sm"
   ]
  },
  {
   "cell_type": "markdown",
   "metadata": {},
   "source": [
    "We now see that the models are performing much better on test dataset than before and capturing postive classes much better as seen from precision and recall values!!\n",
    "\n",
    "The top model performers are - **DecisionTree, Linear SVM and KNN** (based on precision , recall and f scores).\n",
    "\n",
    "As next steps - \n",
    "- we can try fine tuning the parameters of the models to improve performance\n",
    "- we can try various other combinations of oversampling to improve performance"
   ]
  },
  {
   "cell_type": "code",
   "execution_count": null,
   "metadata": {},
   "outputs": [],
   "source": []
  }
 ],
 "metadata": {
  "kernelspec": {
   "display_name": "Python 3",
   "language": "python",
   "name": "python3"
  },
  "language_info": {
   "codemirror_mode": {
    "name": "ipython",
    "version": 3
   },
   "file_extension": ".py",
   "mimetype": "text/x-python",
   "name": "python",
   "nbconvert_exporter": "python",
   "pygments_lexer": "ipython3",
   "version": "3.7.3"
  }
 },
 "nbformat": 4,
 "nbformat_minor": 2
}
